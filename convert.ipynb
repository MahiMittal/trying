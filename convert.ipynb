{
 "cells": [
  {
   "cell_type": "code",
   "execution_count": 1,
   "metadata": {},
   "outputs": [
    {
     "name": "stdout",
     "output_type": "stream",
     "text": [
      "Collecting xlsxwriter\n",
      "  Downloading XlsxWriter-3.1.6-py3-none-any.whl (154 kB)\n",
      "     -------------------------------------- 154.3/154.3 kB 4.5 MB/s eta 0:00:00\n",
      "Installing collected packages: xlsxwriter\n",
      "Successfully installed xlsxwriter-3.1.6\n",
      "Note: you may need to restart the kernel to use updated packages.\n"
     ]
    }
   ],
   "source": [
    "pip install xlsxwriter"
   ]
  },
  {
   "cell_type": "code",
   "execution_count": 3,
   "metadata": {},
   "outputs": [
    {
     "name": "stdout",
     "output_type": "stream",
     "text": [
      "Requirement already satisfied: openpyxl in c:\\users\\mahim\\anaconda3\\lib\\site-packages (3.0.10)\n",
      "Requirement already satisfied: et_xmlfile in c:\\users\\mahim\\anaconda3\\lib\\site-packages (from openpyxl) (1.1.0)\n",
      "Note: you may need to restart the kernel to use updated packages.\n"
     ]
    }
   ],
   "source": [
    "pip install openpyxl"
   ]
  },
  {
   "cell_type": "code",
   "execution_count": 4,
   "metadata": {},
   "outputs": [
    {
     "name": "stdout",
     "output_type": "stream",
     "text": [
      "Collecting python-pptx\n",
      "  Downloading python_pptx-0.6.22-py3-none-any.whl (471 kB)\n",
      "     -------------------------------------- 471.5/471.5 kB 3.0 MB/s eta 0:00:00\n",
      "Requirement already satisfied: Pillow<=9.5.0,>=3.3.2 in c:\\users\\mahim\\anaconda3\\lib\\site-packages (from python-pptx) (9.4.0)\n",
      "Requirement already satisfied: XlsxWriter>=0.5.7 in c:\\users\\mahim\\anaconda3\\lib\\site-packages (from python-pptx) (3.1.6)\n",
      "Requirement already satisfied: lxml>=3.1.0 in c:\\users\\mahim\\anaconda3\\lib\\site-packages (from python-pptx) (4.9.1)\n",
      "Installing collected packages: python-pptx\n",
      "Successfully installed python-pptx-0.6.22\n",
      "Note: you may need to restart the kernel to use updated packages.\n"
     ]
    }
   ],
   "source": [
    "pip install python-pptx\n"
   ]
  },
  {
   "cell_type": "code",
   "execution_count": null,
   "metadata": {},
   "outputs": [],
   "source": [
    "from openpyxl import load_workbook\n",
    "from pptx import Presentation\n",
    "from pptx.util import Inches\n",
    "\n",
    "# Load the Excel file\n",
    "workbook = load_workbook('data.xlsx')\n",
    "sheet = workbook.active\n",
    "\n",
    "# Load the PowerPoint template\n",
    "presentation = Presentation('template.pptx')\n",
    "\n",
    "# Iterate through each row in Excel (assuming each row corresponds to a company)\n",
    "for row in sheet.iter_rows(min_row=2, values_only=True):  # Assuming headers are in first row\n",
    "\n",
    "    company_name, business_overview, revenue_segment, org_structure, num_employees = row\n",
    "\n",
    "    # Iterate through slides\n",
    "    for i, slide in enumerate(presentation.slides[:3]):  # Assuming first 3 slides are Business Overview, Revenue Segmentation, and Org Structure + Number of Employees\n",
    "\n",
    "        # Define position for data\n",
    "        left = top = Inches(2)  # Adjust the position as needed\n",
    "        textbox = slide.shapes.add_textbox(left, top, Inches(6), Inches(3))  # Adjust dimensions as needed\n",
    "        frame = textbox.text_frame\n",
    "\n",
    "        # Add company name\n",
    "        company_name_box = frame.add_paragraph()\n",
    "        company_name_box.text = company_name\n",
    "        company_name_box.font.bold = True\n",
    "\n",
    "        # Add section heading\n",
    "        section_heading = frame.add_paragraph()\n",
    "\n",
    "        if i == 0:\n",
    "            section_heading.text = \"Business Overview\"\n",
    "            data = business_overview\n",
    "        elif i == 1:\n",
    "            section_heading.text = \"Revenue Segmentation\"\n",
    "            data = revenue_segment\n",
    "        else:\n",
    "            section_heading.text = \"Org Structure + Number of Employees\"\n",
    "            data = f\"Org Structure: {org_structure}\\nNumber of Employees: {num_employees}\"\n",
    "\n",
    "        section_heading.font.bold = True\n",
    "\n",
    "        # Add data\n",
    "        data_box = frame.add_paragraph()\n",
    "        data_box.text = data\n",
    "\n",
    "# Save the modified PowerPoint\n",
    "presentation.save('output_presentation.pptx')\n"
   ]
  },
  {
   "cell_type": "code",
   "execution_count": null,
   "metadata": {},
   "outputs": [],
   "source": []
  }
 ],
 "metadata": {
  "kernelspec": {
   "display_name": "base",
   "language": "python",
   "name": "python3"
  },
  "language_info": {
   "codemirror_mode": {
    "name": "ipython",
    "version": 3
   },
   "file_extension": ".py",
   "mimetype": "text/x-python",
   "name": "python",
   "nbconvert_exporter": "python",
   "pygments_lexer": "ipython3",
   "version": "3.10.9"
  },
  "orig_nbformat": 4
 },
 "nbformat": 4,
 "nbformat_minor": 2
}
