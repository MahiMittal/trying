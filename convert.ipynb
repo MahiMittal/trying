{
 "cells": [
  {
   "cell_type": "code",
   "execution_count": 1,
   "metadata": {},
   "outputs": [
    {
     "name": "stdout",
     "output_type": "stream",
     "text": [
      "Collecting xlsxwriter\n",
      "  Downloading XlsxWriter-3.1.6-py3-none-any.whl (154 kB)\n",
      "     -------------------------------------- 154.3/154.3 kB 4.5 MB/s eta 0:00:00\n",
      "Installing collected packages: xlsxwriter\n",
      "Successfully installed xlsxwriter-3.1.6\n",
      "Note: you may need to restart the kernel to use updated packages.\n"
     ]
    }
   ],
   "source": [
    "pip install xlsxwriter"
   ]
  },
  {
   "cell_type": "code",
   "execution_count": 3,
   "metadata": {},
   "outputs": [
    {
     "name": "stdout",
     "output_type": "stream",
     "text": [
      "Requirement already satisfied: openpyxl in c:\\users\\mahim\\anaconda3\\lib\\site-packages (3.0.10)\n",
      "Requirement already satisfied: et_xmlfile in c:\\users\\mahim\\anaconda3\\lib\\site-packages (from openpyxl) (1.1.0)\n",
      "Note: you may need to restart the kernel to use updated packages.\n"
     ]
    }
   ],
   "source": [
    "pip install openpyxl"
   ]
  },
  {
   "cell_type": "code",
   "execution_count": 4,
   "metadata": {},
   "outputs": [
    {
     "name": "stdout",
     "output_type": "stream",
     "text": [
      "Collecting python-pptx\n",
      "  Downloading python_pptx-0.6.22-py3-none-any.whl (471 kB)\n",
      "     -------------------------------------- 471.5/471.5 kB 3.0 MB/s eta 0:00:00\n",
      "Requirement already satisfied: Pillow<=9.5.0,>=3.3.2 in c:\\users\\mahim\\anaconda3\\lib\\site-packages (from python-pptx) (9.4.0)\n",
      "Requirement already satisfied: XlsxWriter>=0.5.7 in c:\\users\\mahim\\anaconda3\\lib\\site-packages (from python-pptx) (3.1.6)\n",
      "Requirement already satisfied: lxml>=3.1.0 in c:\\users\\mahim\\anaconda3\\lib\\site-packages (from python-pptx) (4.9.1)\n",
      "Installing collected packages: python-pptx\n",
      "Successfully installed python-pptx-0.6.22\n",
      "Note: you may need to restart the kernel to use updated packages.\n"
     ]
    }
   ],
   "source": [
    "pip install python-pptx\n"
   ]
  },
  {
   "cell_type": "code",
   "execution_count": null,
   "metadata": {},
   "outputs": [],
   "source": [
    "from openpyxl import load_workbook\n",
    "from pptx import Presentation\n",
    "from pptx.util import Inches\n",
    "\n",
    "# Load the Excel file\n",
    "workbook = load_workbook('data.xlsx')\n",
    "sheet = workbook.active\n",
    "\n",
    "# Load the PowerPoint template\n",
    "presentation = Presentation('template.pptx')\n",
    "\n",
    "# Iterate through each row in Excel (assuming each row corresponds to a company)\n",
    "for row in sheet.iter_rows(min_row=2, values_only=True):  # Assuming headers are in first row\n",
    "\n",
    "    company_name, business_overview, revenue_segment, org_structure, num_employees = row\n",
    "\n",
    "    # Iterate through slides\n",
    "    for i, slide in enumerate(presentation.slides[:3]):  # Assuming first 3 slides are Business Overview, Revenue Segmentation, and Org Structure + Number of Employees\n",
    "\n",
    "        # Define position for data\n",
    "        left = top = Inches(2)  # Adjust the position as needed\n",
    "        textbox = slide.shapes.add_textbox(left, top, Inches(6), Inches(3))  # Adjust dimensions as needed\n",
    "        frame = textbox.text_frame\n",
    "\n",
    "        # Add company name\n",
    "        company_name_box = frame.add_paragraph()\n",
    "        company_name_box.text = company_name\n",
    "        company_name_box.font.bold = True\n",
    "\n",
    "        # Add section heading\n",
    "        section_heading = frame.add_paragraph()\n",
    "\n",
    "        if i == 0:\n",
    "            section_heading.text = \"Business Overview\"\n",
    "            data = business_overview\n",
    "        elif i == 1:\n",
    "            section_heading.text = \"Revenue Segmentation\"\n",
    "            data = revenue_segment\n",
    "        else:\n",
    "            section_heading.text = \"Org Structure + Number of Employees\"\n",
    "            data = f\"Org Structure: {org_structure}\\nNumber of Employees: {num_employees}\"\n",
    "\n",
    "        section_heading.font.bold = True\n",
    "\n",
    "        # Add data\n",
    "        data_box = frame.add_paragraph()\n",
    "        data_box.text = data\n",
    "\n",
    "# Save the modified PowerPoint\n",
    "presentation.save('output_presentation.pptx')\n"
   ]
  },
  {
   "cell_type": "code",
   "execution_count": 6,
   "metadata": {},
   "outputs": [
    {
     "ename": "ValueError",
     "evalue": "assigned value must be type RGBColor",
     "output_type": "error",
     "traceback": [
      "\u001b[1;31m---------------------------------------------------------------------------\u001b[0m",
      "\u001b[1;31mValueError\u001b[0m                                Traceback (most recent call last)",
      "Cell \u001b[1;32mIn[6], line 16\u001b[0m\n\u001b[0;32m     14\u001b[0m title_text_frame\u001b[39m.\u001b[39mtext \u001b[39m=\u001b[39m \u001b[39m'\u001b[39m\u001b[39mtitle\u001b[39m\u001b[39m'\u001b[39m\n\u001b[0;32m     15\u001b[0m title_text_frame\u001b[39m.\u001b[39mparagraphs[\u001b[39m0\u001b[39m]\u001b[39m.\u001b[39mfont\u001b[39m.\u001b[39msize \u001b[39m=\u001b[39m Pt(\u001b[39m32\u001b[39m)\n\u001b[1;32m---> 16\u001b[0m title_text_frame\u001b[39m.\u001b[39mparagraphs[\u001b[39m0\u001b[39m]\u001b[39m.\u001b[39mfont\u001b[39m.\u001b[39mcolor\u001b[39m.\u001b[39mrgb \u001b[39m=\u001b[39m (\u001b[39m128\u001b[39m, \u001b[39m128\u001b[39m, \u001b[39m128\u001b[39m) \u001b[39m# Grey\u001b[39;00m\n\u001b[0;32m     18\u001b[0m \u001b[39m# Create Subtitle\u001b[39;00m\n\u001b[0;32m     19\u001b[0m subtitle \u001b[39m=\u001b[39m slide\u001b[39m.\u001b[39mshapes\u001b[39m.\u001b[39madd_textbox(Inches(\u001b[39m1\u001b[39m), Inches(\u001b[39m1.5\u001b[39m), Inches(\u001b[39m8\u001b[39m), Inches(\u001b[39m1\u001b[39m))\n",
      "File \u001b[1;32mc:\\Users\\mahim\\anaconda3\\lib\\site-packages\\pptx\\dml\\color.py:66\u001b[0m, in \u001b[0;36mColorFormat.rgb\u001b[1;34m(self, rgb)\u001b[0m\n\u001b[0;32m     63\u001b[0m \u001b[39m@rgb\u001b[39m\u001b[39m.\u001b[39msetter\n\u001b[0;32m     64\u001b[0m \u001b[39mdef\u001b[39;00m \u001b[39mrgb\u001b[39m(\u001b[39mself\u001b[39m, rgb):\n\u001b[0;32m     65\u001b[0m     \u001b[39mif\u001b[39;00m \u001b[39mnot\u001b[39;00m \u001b[39misinstance\u001b[39m(rgb, RGBColor):\n\u001b[1;32m---> 66\u001b[0m         \u001b[39mraise\u001b[39;00m \u001b[39mValueError\u001b[39;00m(\u001b[39m\"\u001b[39m\u001b[39massigned value must be type RGBColor\u001b[39m\u001b[39m\"\u001b[39m)\n\u001b[0;32m     67\u001b[0m     \u001b[39m# change to rgb color format if not already\u001b[39;00m\n\u001b[0;32m     68\u001b[0m     \u001b[39mif\u001b[39;00m \u001b[39mnot\u001b[39;00m \u001b[39misinstance\u001b[39m(\u001b[39mself\u001b[39m\u001b[39m.\u001b[39m_color, _SRgbColor):\n",
      "\u001b[1;31mValueError\u001b[0m: assigned value must be type RGBColor"
     ]
    }
   ],
   "source": [
    "from pptx import Presentation\n",
    "from pptx.util import Inches, Pt\n",
    "from pptx.enum.text import PP_ALIGN\n",
    "\n",
    "# Step 1: Create a presentation object\n",
    "prs = Presentation()\n",
    "\n",
    "# Step 2: Create the first slide\n",
    "slide = prs.slides.add_slide(prs.slide_layouts[6])\n",
    "\n",
    "# Create Title\n",
    "title = slide.shapes.add_textbox(Inches(1), Inches(0.5), Inches(8), Inches(1))\n",
    "title_text_frame = title.text_frame\n",
    "title_text_frame.text = 'title'\n",
    "title_text_frame.paragraphs[0].font.size = Pt(32)\n",
    "title_text_frame.paragraphs[0].font.color.rgb = (128, 128, 128) # Grey\n",
    "\n",
    "# Create Subtitle\n",
    "subtitle = slide.shapes.add_textbox(Inches(1), Inches(1.5), Inches(8), Inches(1))\n",
    "subtitle_text_frame = subtitle.text_frame\n",
    "p = subtitle_text_frame.add_paragraph()\n",
    "p.text = 'subtitle'\n",
    "p.alignment = PP_ALIGN.CENTER\n",
    "\n",
    "# Create Labels and Textboxes\n",
    "label1 = slide.shapes.add_textbox(Inches(1), Inches(3), Inches(2), Inches(1))\n",
    "label1_text_frame = label1.text_frame\n",
    "label1_text_frame.text = 'Label 1'\n",
    "\n",
    "label2 = slide.shapes.add_textbox(Inches(4), Inches(3), Inches(2), Inches(1))\n",
    "label2_text_frame = label2.text_frame\n",
    "label2_text_frame.text = 'Label 2'\n",
    "\n",
    "label3 = slide.shapes.add_textbox(Inches(7), Inches(3), Inches(2), Inches(1))\n",
    "label3_text_frame = label3.text_frame\n",
    "label3_text_frame.text = 'Label 3'\n",
    "\n",
    "text1 = slide.shapes.add_textbox(Inches(1), Inches(4.5), Inches(2), Inches(1))\n",
    "text1_text_frame = text1.text_frame\n",
    "text1_text_frame.text = 'Text 1'\n",
    "\n",
    "text2 = slide.shapes.add_textbox(Inches(4), Inches(4.5), Inches(2), Inches(1))\n",
    "text2_text_frame = text2.text_frame\n",
    "text2_text_frame.text = 'Text 2'\n",
    "\n",
    "text3 = slide.shapes.add_textbox(Inches(7), Inches(4.5), Inches(2), Inches(1))\n",
    "text3_text_frame = text3.text_frame\n",
    "text3_text_frame.text = 'Text 3'\n",
    "text3.fill.solid()\n",
    "text3.fill.fore_color.rgb = RGBColor(0, 0, 255)  # Blue\n",
    "\n",
    "# Save the presentation\n",
    "prs.save('layout4.pptx')\n"
   ]
  },
  {
   "cell_type": "code",
   "execution_count": 8,
   "metadata": {},
   "outputs": [
    {
     "ename": "ImportError",
     "evalue": "cannot import name 'RGBColor' from 'pptx.util' (c:\\Users\\mahim\\anaconda3\\lib\\site-packages\\pptx\\util.py)",
     "output_type": "error",
     "traceback": [
      "\u001b[1;31m---------------------------------------------------------------------------\u001b[0m",
      "\u001b[1;31mImportError\u001b[0m                               Traceback (most recent call last)",
      "Cell \u001b[1;32mIn[8], line 2\u001b[0m\n\u001b[0;32m      1\u001b[0m \u001b[39mfrom\u001b[39;00m \u001b[39mpptx\u001b[39;00m \u001b[39mimport\u001b[39;00m Presentation\n\u001b[1;32m----> 2\u001b[0m \u001b[39mfrom\u001b[39;00m \u001b[39mpptx\u001b[39;00m\u001b[39m.\u001b[39;00m\u001b[39mutil\u001b[39;00m \u001b[39mimport\u001b[39;00m Inches, Pt, RGBColor\n\u001b[0;32m      3\u001b[0m \u001b[39mfrom\u001b[39;00m \u001b[39mpptx\u001b[39;00m\u001b[39m.\u001b[39;00m\u001b[39menum\u001b[39;00m\u001b[39m.\u001b[39;00m\u001b[39mtext\u001b[39;00m \u001b[39mimport\u001b[39;00m PP_ALIGN\n\u001b[0;32m      5\u001b[0m \u001b[39m# Step 1: Create a presentation object\u001b[39;00m\n",
      "\u001b[1;31mImportError\u001b[0m: cannot import name 'RGBColor' from 'pptx.util' (c:\\Users\\mahim\\anaconda3\\lib\\site-packages\\pptx\\util.py)"
     ]
    }
   ],
   "source": [
    "from pptx import Presentation\n",
    "from pptx.util import Inches, Pt, RGBColor\n",
    "from pptx.enum.text import PP_ALIGN\n",
    "\n",
    "# Step 1: Create a presentation object\n",
    "prs = Presentation()\n",
    "\n",
    "# Step 2: Create the first slide\n",
    "slide = prs.slides.add_slide(prs.slide_layouts[5])\n",
    "\n",
    "# Create Label 1 (Top Left)\n",
    "label1 = slide.shapes.add_textbox(Inches(0.5), Inches(0.5), Inches(3), Inches(1.5))\n",
    "label1_text_frame = label1.text_frame\n",
    "label1_text_frame.text = 'Label 1'\n",
    "label1_text_frame.paragraphs[0].font.size = Pt(16)\n",
    "label1_text_frame.paragraphs[0].font.color.rgb = RGBColor(128, 128, 128)  # Grey\n",
    "\n",
    "# Create Subtitle (Below Label 1)\n",
    "subtitle = slide.shapes.add_textbox(Inches(0.5), Inches(2.5), Inches(3), Inches(1.5))\n",
    "subtitle_text_frame = subtitle.text_frame\n",
    "p = subtitle_text_frame.add_paragraph()\n",
    "p.text = 'hi this is subtitle'\n",
    "p.alignment = PP_ALIGN.CENTER\n",
    "\n",
    "# Create Label 2 (Top Middle)\n",
    "label2 = slide.shapes.add_textbox(Inches(4.5), Inches(0.5), Inches(3), Inches(1.5))\n",
    "label2_text_frame = label2.text_frame\n",
    "label2_text_frame.text = 'Label 2'\n",
    "\n",
    "# Create Label 3 (Top Right)\n",
    "label3 = slide.shapes.add_textbox(Inches(8.5), Inches(0.5), Inches(3), Inches(1.5))\n",
    "label3_text_frame = label3.text_frame\n",
    "label3_text_frame.text = 'Label 3'\n",
    "\n",
    "# Create Textbox 4 (Middle Left)\n",
    "textbox4 = slide.shapes.add_textbox(Inches(4.5), Inches(2.5), Inches(3), Inches(1.5))\n",
    "textbox4_text_frame = textbox4.text_frame\n",
    "textbox4_text_frame.text = 'Textbox 4'\n",
    "textbox4.fill.solid()\n",
    "textbox4.fill.fore_color.rgb = RGBColor(255, 0, 0)  # Red\n",
    "\n",
    "# Create Textbox 5 (Middle Middle)\n",
    "textbox5 = slide.shapes.add_textbox(Inches(4.5), Inches(4.5), Inches(3), Inches(1.5))\n",
    "textbox5_text_frame = textbox5.text_frame\n",
    "textbox5_text_frame.text = 'Textbox 5'\n",
    "textbox5.fill.solid()\n",
    "textbox5.fill.fore_color.rgb = RGBColor(0, 255, 0)  # Green\n",
    "\n",
    "# Create Textbox 6 (Middle Right)\n",
    "textbox6 = slide.shapes.add_textbox(Inches(8.5), Inches(2.5), Inches(3), Inches(1.5))\n",
    "textbox6_text_frame = textbox6.text_frame\n",
    "textbox6_text_frame.text = 'Textbox 6'\n",
    "textbox6.fill.solid()\n",
    "textbox6.fill.fore_color.rgb = RGBColor(0, 0, 255)  # Blue\n",
    "\n",
    "# Create Textbox 7 (Bottom Left)\n",
    "textbox7 = slide.shapes.add_textbox(Inches(0.5), Inches(4.5), Inches(3), Inches(1.5))\n",
    "textbox7_text_frame = textbox7.text_frame\n",
    "textbox7_text_frame.text = 'Textbox 7'\n",
    "textbox7.fill.solid()\n",
    "textbox7.fill.fore_color.rgb = RGBColor(255, 255, 0)  # Yellow\n",
    "\n",
    "# Create Textbox 8 (Bottom Middle)\n",
    "textbox8 = slide.shapes.add_textbox(Inches(4.5), Inches(6.5), Inches(3), Inches(1.5))\n",
    "textbox8_text_frame = textbox8.text_frame\n",
    "textbox8_text_frame.text = 'Textbox 8'\n",
    "textbox8.fill.solid()\n",
    "textbox8.fill.fore_color.rgb = RGBColor(255, 0, 255)  # Magenta\n",
    "\n",
    "# Save the presentation\n",
    "prs.save('layout5.pptx')"
   ]
  },
  {
   "cell_type": "code",
   "execution_count": null,
   "metadata": {},
   "outputs": [],
   "source": []
  }
 ],
 "metadata": {
  "kernelspec": {
   "display_name": "base",
   "language": "python",
   "name": "python3"
  },
  "language_info": {
   "codemirror_mode": {
    "name": "ipython",
    "version": 3
   },
   "file_extension": ".py",
   "mimetype": "text/x-python",
   "name": "python",
   "nbconvert_exporter": "python",
   "pygments_lexer": "ipython3",
   "version": "3.10.9"
  },
  "orig_nbformat": 4
 },
 "nbformat": 4,
 "nbformat_minor": 2
}
